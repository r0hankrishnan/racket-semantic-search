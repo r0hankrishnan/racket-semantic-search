{
 "cells": [
  {
   "cell_type": "markdown",
   "id": "b5f175fc",
   "metadata": {},
   "source": [
    "# Text Embedding Preprocessing"
   ]
  },
  {
   "cell_type": "markdown",
   "id": "def35560",
   "metadata": {},
   "source": [
    "## Imports and data loading"
   ]
  },
  {
   "cell_type": "code",
   "execution_count": null,
   "id": "07cd2f5c",
   "metadata": {},
   "outputs": [],
   "source": [
    "from itertools import zip_longest\n",
    "import pandas as pd\n",
    "import numpy as np\n",
    "from sentence_transformers import SentenceTransformer\n",
    "\n",
    "#HF sentence-transformers resource: https://huggingface.co/sentence-transformers"
   ]
  },
  {
   "cell_type": "code",
   "execution_count": null,
   "id": "b0661ef9",
   "metadata": {},
   "outputs": [],
   "source": [
    "df = pd.read_csv(\"../data/interim/racquets_trimmed.csv\", index_col = 0)\n",
    "\n",
    "racquet_brand = [row.split(\" \")[0] for row in df[\"racquet_name\"]]\n",
    "\n",
    "df.insert(1, \"racquet_brand\", racquet_brand)\n",
    "\n",
    "df"
   ]
  },
  {
   "cell_type": "markdown",
   "id": "077778fc",
   "metadata": {},
   "source": [
    "## Combining text columns for embedding"
   ]
  },
  {
   "cell_type": "code",
   "execution_count": null,
   "id": "bb29daaa",
   "metadata": {},
   "outputs": [],
   "source": [
    "object_cols = df.select_dtypes(include = [\"object\"]).columns.to_list()\n",
    "numeric_cols = df.select_dtypes(include = [np.number]).columns.to_list()\n",
    "\n",
    "print(pd.DataFrame(\n",
    "    list(zip_longest(object_cols, numeric_cols, fillvalue=None)), \n",
    "    columns = [\"Object Columns\", \"Numeric Columns\"]\n",
    "    )\n",
    "      )"
   ]
  },
  {
   "cell_type": "code",
   "execution_count": null,
   "id": "807479af",
   "metadata": {},
   "outputs": [],
   "source": [
    "df[\"combined_text\"] = \"\""
   ]
  },
  {
   "cell_type": "markdown",
   "id": "f22d29d9",
   "metadata": {},
   "source": [
    "### "
   ]
  },
  {
   "cell_type": "code",
   "execution_count": null,
   "id": "efc62906",
   "metadata": {},
   "outputs": [],
   "source": [
    "def combine_obj_cols(df:pd.DataFrame, object_cols:list[str]) -> pd.Series:\n",
    "    _df = df.copy()\n",
    "    _df[\"combined_col\"] = \"\"\n",
    "    \n",
    "    _replacements = str.maketrans({\n",
    "        \"!\":\".\",\n",
    "        \"_\":\" \",\n",
    "        \"&\":\"and\",\n",
    "        \"²\":\"\",\n",
    "        \"\\xa0\":\"\",\n",
    "        \"\\n\":\"\",\n",
    "        \"\\r\":\"\",\n",
    "        '\"':\"\",\n",
    "        '“':\"\",\n",
    "        \"+\":\"plus\",\n",
    "        \"%\":\"percent\"\n",
    "    })\n",
    "    \n",
    "    _title_dict = {\n",
    "        \"racquet_brand\":\"Racquet Brand\",\n",
    "        \"racquet_name\":\"Racquet Name\",\n",
    "        \"racquet_desc\":\"Racquet Description\",\n",
    "        \"racquet_composition\":\"Racquet Composition\",\n",
    "        \"racquet_power\":\"Racquet Power Level\",\n",
    "        \"racquet_stroke_style\":\"Racquet Stroke Style\",\n",
    "        \"racquet_swing_speed\":\"Racquet Swing Speed\",\n",
    "        \"racquet_colors\":\"Racquet Colors\",\n",
    "        \"racquet_grip_type\":\"Racquet Grip Type\"\n",
    "    }\n",
    "    \n",
    "    for col in object_cols:\n",
    "        _content = _df[col].str.translate(_replacements)\n",
    "        _content = _content.replace(\"in²\", \"inches squared\").replace(\"  \", \" \")\n",
    "        _df[\"combined_col\"] += _title_dict[col] + \": \" +  _content + \"\\n\"\n",
    "        \n",
    "    return _df[\"combined_col\"]"
   ]
  },
  {
   "cell_type": "code",
   "execution_count": null,
   "id": "2792d17b",
   "metadata": {},
   "outputs": [],
   "source": [
    "df[\"combined_text\"] = combine_obj_cols(df, object_cols[1:len(object_cols)])"
   ]
  },
  {
   "cell_type": "code",
   "execution_count": null,
   "id": "b94d4f0e",
   "metadata": {},
   "outputs": [],
   "source": [
    "df[[\"racquet_brand\",\"racquet_name\", \"racquet_desc\", \"combined_text\"]]"
   ]
  },
  {
   "cell_type": "code",
   "execution_count": null,
   "id": "2dfe977d",
   "metadata": {},
   "outputs": [],
   "source": [
    "import collections\n",
    "from itertools import chain\n",
    "\n",
    "\n",
    "char_counts = collections.Counter(chain.from_iterable(df['combined_text'].dropna()))\n",
    "print(char_counts)"
   ]
  },
  {
   "cell_type": "markdown",
   "id": "88710a22",
   "metadata": {},
   "source": [
    "## Test Embedding Process"
   ]
  },
  {
   "cell_type": "code",
   "execution_count": null,
   "id": "18b59183",
   "metadata": {},
   "outputs": [],
   "source": [
    "model = SentenceTransformer(\"all-MiniLM-L6-v2\")"
   ]
  },
  {
   "cell_type": "code",
   "execution_count": null,
   "id": "b4cb15db",
   "metadata": {},
   "outputs": [],
   "source": [
    "texts = [df[\"combined_text\"][0],\n",
    "         df[\"combined_text\"][1],\n",
    "         df[\"combined_text\"][2],\n",
    "         df[\"combined_text\"][374]]\n",
    "texts"
   ]
  },
  {
   "cell_type": "code",
   "execution_count": null,
   "id": "e7577362",
   "metadata": {},
   "outputs": [],
   "source": [
    "embeddings = model.encode(texts)\n",
    "print(embeddings.shape)"
   ]
  },
  {
   "cell_type": "code",
   "execution_count": null,
   "id": "ee7c39cb",
   "metadata": {},
   "outputs": [],
   "source": [
    "similarities = model.similarity(embeddings, embeddings)\n",
    "print(similarities) # First three should be more similar to each other than the fourth"
   ]
  }
 ],
 "metadata": {
  "kernelspec": {
   "display_name": "rss_venv",
   "language": "python",
   "name": "python3"
  },
  "language_info": {
   "codemirror_mode": {
    "name": "ipython",
    "version": 3
   },
   "file_extension": ".py",
   "mimetype": "text/x-python",
   "name": "python",
   "nbconvert_exporter": "python",
   "pygments_lexer": "ipython3",
   "version": "3.10.10"
  }
 },
 "nbformat": 4,
 "nbformat_minor": 5
}

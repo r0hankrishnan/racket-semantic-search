{
 "cells": [
  {
   "cell_type": "markdown",
   "id": "b5f175fc",
   "metadata": {},
   "source": [
    "# Text Embedding Preprocessing"
   ]
  },
  {
   "cell_type": "markdown",
   "id": "def35560",
   "metadata": {},
   "source": [
    "## Imports and data loading"
   ]
  },
  {
   "cell_type": "code",
   "execution_count": 2,
   "id": "07cd2f5c",
   "metadata": {},
   "outputs": [],
   "source": [
    "from itertools import zip_longest\n",
    "import pandas as pd\n",
    "import numpy as np\n",
    "from sentence_transformers import SentenceTransformer"
   ]
  },
  {
   "cell_type": "code",
   "execution_count": null,
   "id": "b0661ef9",
   "metadata": {},
   "outputs": [],
   "source": [
    "df = pd.read_csv(\"../data/interim/racquets_trimmed.csv\", index_col = 0)\n",
    "\n",
    "df.head()"
   ]
  },
  {
   "cell_type": "code",
   "execution_count": null,
   "id": "bb29daaa",
   "metadata": {},
   "outputs": [],
   "source": [
    "object_cols = df.select_dtypes(include = [\"object\"]).columns.to_list()\n",
    "numeric_cols = df.select_dtypes(include = [np.number]).columns.to_list()\n",
    "\n",
    "print(pd.DataFrame(\n",
    "    list(zip_longest(object_cols, numeric_cols, fillvalue=None)), \n",
    "    columns = [\"Object Columns\", \"Numeric Columns\"]\n",
    "    )\n",
    "      )"
   ]
  }
 ],
 "metadata": {
  "kernelspec": {
   "display_name": "rss_venv",
   "language": "python",
   "name": "python3"
  },
  "language_info": {
   "codemirror_mode": {
    "name": "ipython",
    "version": 3
   },
   "file_extension": ".py",
   "mimetype": "text/x-python",
   "name": "python",
   "nbconvert_exporter": "python",
   "pygments_lexer": "ipython3",
   "version": "3.10.10"
  }
 },
 "nbformat": 4,
 "nbformat_minor": 5
}

{
 "cells": [
  {
   "cell_type": "markdown",
   "id": "8c26a3d3",
   "metadata": {},
   "source": [
    "## Hybrid Search"
   ]
  },
  {
   "cell_type": "markdown",
   "id": "3fe9ce65",
   "metadata": {},
   "source": [
    "First, extract structured filters and apply them. Then run semantic search on just embeddings of the racquet description."
   ]
  },
  {
   "cell_type": "code",
   "execution_count": null,
   "id": "5c33af13",
   "metadata": {},
   "outputs": [],
   "source": []
  }
 ],
 "metadata": {
  "language_info": {
   "name": "python"
  }
 },
 "nbformat": 4,
 "nbformat_minor": 5
}

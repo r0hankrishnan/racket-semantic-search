{
 "cells": [
  {
   "cell_type": "markdown",
   "id": "8c26a3d3",
   "metadata": {},
   "source": [
    "## Hybrid Search"
   ]
  },
  {
   "cell_type": "markdown",
   "id": "3fe9ce65",
   "metadata": {},
   "source": [
    "First, extract structured filters and apply them. Then run semantic search on just embeddings of the racquet description."
   ]
  },
  {
   "cell_type": "code",
   "execution_count": null,
   "id": "5c33af13",
   "metadata": {},
   "outputs": [],
   "source": []
  },
  {
   "cell_type": "markdown",
   "id": "f2cd7756",
   "metadata": {},
   "source": [
    "## Create multiple search paradigms and implement into end product for testing"
   ]
  },
  {
   "cell_type": "markdown",
   "id": "9e99e9b0",
   "metadata": {},
   "source": [
    "The search methods:\n",
    "- Basic sematic search on description column - COULD PROBABLY REMOVE\n",
    "- Structured combined text field semantic search - COULD PROBABLY REMOVE\n",
    "- Natural combined text v1 field semantic search - COULD PROBABLY REMOVE\n",
    "- Natural combined text v2 field semantic search\n",
    "- Hybrid search -> semantic search on description with keyword search on feature/spec columns\n",
    "- Structured search using guided process\n",
    "\n",
    "In product:\n",
    "- Button to toggle between search types?\n",
    "- Side by side results?\n",
    "- Logging tool for users to share which output they thought was most relevant"
   ]
  }
 ],
 "metadata": {
  "language_info": {
   "name": "python"
  }
 },
 "nbformat": 4,
 "nbformat_minor": 5
}

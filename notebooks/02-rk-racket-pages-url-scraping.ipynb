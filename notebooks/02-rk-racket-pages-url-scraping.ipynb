{
 "cells": [
  {
   "cell_type": "markdown",
   "id": "923c4587",
   "metadata": {},
   "source": [
    "# Scrape URLs for each racket brand's page on the Tennis Warehouse website"
   ]
  },
  {
   "cell_type": "markdown",
   "id": "d2f651b4",
   "metadata": {},
   "source": [
    "This notebook shows how to scrape each brand page's URL from the sidebar of the Tennis Warehouse website"
   ]
  },
  {
   "cell_type": "markdown",
   "id": "1fb4c709",
   "metadata": {},
   "source": [
    "## Table of Contents\n",
    "1. [Parsing the sidebar to get uls](#parsing-the-sidebar-to-get-uls)\n",
    "\n",
    "2. [Parsing the uls to get li of brands](#parsing-ul-to-get-li-of-brands)\n",
    "\n",
    "3. [Extracting and concatenating brand links](#extracting-and-concatenating-each-brand-link-into-a-list-of-brand-links)\n"
   ]
  },
  {
   "cell_type": "code",
   "execution_count": null,
   "id": "7f5790a5",
   "metadata": {},
   "outputs": [],
   "source": [
    "# Imports\n",
    "import requests\n",
    "from bs4 import BeautifulSoup\n",
    "import pandas as pd\n",
    "import numpy as np"
   ]
  },
  {
   "cell_type": "markdown",
   "id": "82ebae4c",
   "metadata": {},
   "source": [
    "## Parsing the sidebar to get uls"
   ]
  },
  {
   "cell_type": "code",
   "execution_count": null,
   "id": "7b1e44bd",
   "metadata": {},
   "outputs": [],
   "source": [
    "# Starting URL\n",
    "URL = \"https://www.tennis-warehouse.com/TennisRacquets.html\""
   ]
  },
  {
   "cell_type": "code",
   "execution_count": null,
   "id": "fd727702",
   "metadata": {},
   "outputs": [],
   "source": [
    "# Get html\n",
    "webpage = requests.get(URL)"
   ]
  },
  {
   "cell_type": "code",
   "execution_count": null,
   "id": "312f4d52",
   "metadata": {},
   "outputs": [],
   "source": [
    "# Parse html\n",
    "soup = BeautifulSoup(webpage.content, \"html.parser\")"
   ]
  },
  {
   "cell_type": "code",
   "execution_count": null,
   "id": "0efaf734",
   "metadata": {},
   "outputs": [],
   "source": [
    "# Extract sidebar links by \n",
    "# targeting unordered list with \"left_menu-section\" class\n",
    "sidebar_links = soup.find_all(\"ul\", attrs = {\"class\": \"left_menu-section\"})"
   ]
  },
  {
   "cell_type": "code",
   "execution_count": null,
   "id": "8bf326c3",
   "metadata": {},
   "outputs": [
    {
     "data": {
      "text/plain": [
       "[<ul class=\"left_menu-section\"> <li class=\"nav-item\"><a href=\"/TennisRacquets.html\">Shop All</a></li> </ul>,\n",
       " <ul class=\"left_menu-section\"> <li><a href=\"/Babolatracquets.html\">Babolat</a></li> <li><a href=\"/Wilsonracquets.html\">Wilson</a></li> <li><a href=\"/Headracquets.html\">Head</a></li> <li><a href=\"/YonexRacquets.html\">Yonex</a></li> <li><a href=\"/PrinceRacquets.html\">Prince</a></li> <li><a href=\"/Tecnifibreracquets.html\">Tecnifibre</a></li> <li><a href=\"/DunlopRacquets.html\">Dunlop</a></li> <li><a href=\"/VolklRacquets.html\">Volkl</a></li> <li><a href=\"/ProKennexracquets.html\">ProKennex</a></li> <li><a href=\"/Solinco_Tennis_Racquets/catpage-SOLINCORAC.html\">Solinco</a></li> <li><a href=\"/LacosteRacquets.html\">Lacoste</a></li> </ul>,\n",
       " <ul class=\"left_menu-section\"> <li><a href=\"/JrRacquets.html\">Junior Racquets</a></li> <li><a href=\"/The_Vintage_Racquet_Collection/catpage-BOS.html\">Vintage Racquets</a></li> <li><a href=\"/usedracquets.html\">Used Racquets</a></li> <li><a class=\"is-sale\" href=\"/Clearance_Tennis_Racquets/catpage-LIQRACS.html\">Clearance</a></li> </ul>,\n",
       " <ul class=\"left_menu-section\"> <li><a href=\"/demoprogram.html\">Demo Program</a></li> <li><a href=\"/tradein/\">Trade In Program</a></li> <li><a href=\"/Racquet_Matching__Customization_Services/catpage-RACSERVICE.html\">Racquet Matching &amp; Customization</a></li> </ul>,\n",
       " <ul class=\"left_menu-section\"> <li><a href=\"/Tennis_Balls/catpage-BALLS.html\">Tennis Balls</a></li> <li><button aria-expanded=\"false\" class=\"left_menu-expand left_menu-navitem is-menusub btn btn-block\" id=\"menu_tennisbags\">Tennis Bags<i class=\"icon brand-icon icon-plus is-xs\"></i></button> <ul aria-labelledby=\"menu_tennisbags\" class=\"left_menu-brandmenu collapse\"> <li class=\"nav-item\"><a href=\"/bagfinder.html\">Shop All</a></li> </ul> <ul aria-labelledby=\"menu_bagbrands\" class=\"left_menu-brandmenu collapse no-top-space\"> <li><button aria-expanded=\"false\" class=\"left_menu-expand left_menu-navitem is-menusub btn btn-block\" id=\"menu_bagbrands\">Brands<i class=\"icon brand-icon icon-plus is-xs\"></i></button> <ul aria-labelledby=\"menu_bagbrands\" class=\"left_menu-brandmenu collapse\"> <li><a href=\"/Babolat_Tennis_Bags/catpage-BABBAGS.html\">Babolat</a></li> <li><a href=\"/Wilson_Tennis_Bags/catpage-WILSONBAGS.html\">Wilson</a></li> <li><a href=\"/Head_Tennis_Bags/catpage-HEADBAGS.html\">Head</a></li> <li><a href=\"/Prince_Tennis_Bags/catpage-PRINCEBAGS.html\">Prince</a></li> <li><a href=\"/Yonex_Tennis_Bags/catpage-YONEXBAGS.html\">Yonex</a></li> <li><a href=\"/adidas_Tennis_Bags/catpage-ADIDASBAGS.html\">adidas</a></li> <li><a href=\"/Ame__Lulu_Tennis_Bags/catpage-AMELULUBAGS.html\">Ame &amp; Lulu</a></li> <li><a href=\"/Cancha_Bags/catpage-CANCHABAGS.html\">Cancha</a></li> <li><a href=\"/Court_Couture_Tennis_Bags/catpage-COUTUREBAG.html\">Court Couture</a></li> <li><a href=\"/Dunlop_Tennis_Bags/catpage-DUNLOPBAGS.html\">Dunlop</a></li> <li><a href=\"/Geau_Sport_Bags/catpage-GEAUBAGS.html\">Geau Sport</a></li> <li><a href=\"/Glove_It_Tennis_Bags/catpage-GLOVEITBAGS.html\">Glove It</a></li> <li><a href=\"/Maggie_Mather_Tennis_Bags/catpage-MATHERBAG.html\">Maggie Mather</a></li> <li><a href=\"/Nike_Bags/catpage-NIKEBAGS.html\">Nike</a></li> <li><a href=\"/Solinco_Tennis_Bags/catpage-SOLINCOBAG.html\">Solinco</a></li> <li><a href=\"/Tecnifibre_Tennis_Bags/catpage-TFBAGS.html\">Tecnifibre</a></li> <li><a href=\"/Volkl_Tennis_Bags/catpage-VOLKLBAGS.html\">Volkl</a></li> <li><a href=\"/Tennis_Warehouse_Bags/catpage-TWBAGS.html\">Tennis Warehouse</a></li> </ul> </li></ul> <ul aria-labelledby=\"menu_tennisbagtypes\" class=\"left_menu-brandmenu collapse\"> <li><a href=\"/Tennis_Backpacks/catpage-BACKPACKS.html\">Backpacks</a></li> <li><a href=\"/3_Pack_Racquet_Tennis_Bags/catpage-3PKBAGS.html\">3 Pack Bags</a></li> <li><a href=\"/6_Pack_Racquet_Tennis_Bags/catpage-6PKBAGS.html\">6 Pack Bags</a></li> <li><a href=\"/8-12_Pack_Racquet_Tennis_Bags/catpage-SUP6BAGS.html\">8-12+ Pack Bags</a></li> <li><a href=\"/Tennis_Travel_Bags__Large_Duffels/catpage-CLUBBAGS.html\">Duffel Bags</a></li> <li><a href=\"/Designer_Shoulder_Tote_Tennis_Bags/catpage-SHOULDBAGS.html\">Tote Bags</a></li> <li><a href=\"/Tennis_Bag_Accessories/catpage-ACCBAGS.html\">Bag Accessories</a></li> </ul> </li> <li><button aria-expanded=\"false\" class=\"left_menu-expand left_menu-navitem is-menusub btn btn-block\" id=\"menu_strings\">Strings<i class=\"icon brand-icon icon-plus is-xs\"></i></button> <ul aria-labelledby=\"menu_strings\" class=\"left_menu-brandmenu collapse\"> <li><a href=\"/Tennis_String/catpage-STRINGPP.html\">Shop All</a></li> </ul> <ul aria-labelledby=\"menu_stringbrands\" class=\"left_menu-brandmenu collapse no-top-space\"> <li><button aria-expanded=\"false\" class=\"left_menu-expand left_menu-navitem is-menusub btn btn-block\" id=\"menu_stringbrands\">Brands<i class=\"icon brand-icon icon-plus is-xs\"></i></button> <ul aria-labelledby=\"menu_stringbrands\" class=\"left_menu-brandmenu collapse\"> <li><a href=\"/BabolatString.html\">Babolat</a></li> <li><a href=\"/LuxilonString.html\">Luxilon</a></li> <li><a href=\"/WilsonString.html\">Wilson</a></li> <li><a href=\"/PrinceString.html\">Prince</a></li> <li><a href=\"/TecnifibreString.html\">Tecnifibre</a></li> <li><a href=\"/SolincoString.html\">Solinco</a></li> <li><a href=\"/AlphaString.html\">Alpha &amp; RAB</a></li> <li><a href=\"/ashawaystring.html\">Ashaway</a></li> <li><a href=\"/DiademString.html\">Diadem</a></li> <li><a href=\"/DunlopString.html\">Dunlop</a></li> <li><a href=\"/FortenString.html\">Forten</a></li> <li><a href=\"/GammaString.html\">Gamma</a></li> <li><a href=\"/GenesisString.html\">Genesis</a></li> <li><a href=\"/GosenString.html\">Gosen</a></li> <li><a href=\"/Head_Tennis_String/catpage-HEADSTR.html\">Head</a></li> <li><a href=\"/IsoSpeedString.html\">Iso-Speed</a></li> <li><a href=\"/KirschbaumString.html\">Kirschbaum </a></li> <li><a href=\"/KlipString.html\">Klip</a></li> <li><a href=\"/MSVString.html\">MSV</a></li> <li><a href=\"/SignumString.html\">Signum Pro</a></li> <li><a href=\"/TopspinString.html\">Topspin</a></li> <li><a href=\"/Toroline_Tennis_Strings/catpage-TOROLSTR.html\">Toroline</a></li> <li><a href=\"/UniqueString.html\">Tourna</a></li> <li><a href=\"/Volkl_Tennis_String/catpage-VOLKLSTR.html\">Volkl</a></li> <li><a href=\"/WeissString.html\">WeissCannon</a></li> <li><a href=\"/YonexString.html\">Yonex</a></li> <li><a href=\"/YtexString.html\">Ytex</a></li> </ul> </li></ul> <ul aria-labelledby=\"menu_stringspotlight\" class=\"left_menu-brandmenu collapse\"> <li><a href=\"/String_Spotlight/catpage-HIDDENG.html\">String Spotlight</a></li> </ul> <ul aria-labelledby=\"menu_stringtypes\" class=\"left_menu-brandmenu collapse\"> <li><a href=\"/Polyester_String/catpage-POLYSTR.html\">Polyester</a></li> <li><a href=\"/Multifilament_String/catpage-MULTIFILSTR.html\">Multifilament</a></li> <li><a href=\"/Natural_Gut_String_/catpage-NATGUT.html\">Natural Gut</a></li> <li><a href=\"/Synthetic_Gut_String/catpage-SYNGUTSTR.html\">Synthetic Gut</a></li> <li><a href=\"/Hybrid_Tennis_String/catpage-HYBRIDS.html\">Hybrids</a></li> <li><a href=\"/Reels_of_String/catpage-STRREELS.html\">String Reels</a></li> </ul> </li> <li><a href=\"/Tennis_Racquet_Stringing_Machines/catpage-STRMACHINES.html\">Stringing Machines</a></li> <li><a href=\"/toolssupplies.html\">Tools &amp; Supplies</a></li> <li><a href=\"/Tennis_Racquet_Grommets/catpage-GROMBRAND.html\">Grommets</a></li> <li><a href=\"/overgrips.html\">Overgrips</a></li> <li><a href=\"/replacegrips.html\">Replacement Grips</a></li> <li><a href=\"/Vibration_Dampeners/catpage-DAMPENERS.html\">Vibration Dampeners</a></li> <li><a href=\"/Customization_Putty__Tape/catpage-HEADTAPE.html\">Head &amp; Lead Tape</a></li> <li><a href=\"/Tennis_Ball_Machines/catpage-COURTEQ.html\">Tennis Ball Machines</a></li> <li><a href=\"/Tennis_Court_Equipment/catpage-COURTEQT.html\">Court Equipment</a></li> </ul>]"
      ]
     },
     "execution_count": 19,
     "metadata": {},
     "output_type": "execute_result"
    }
   ],
   "source": [
    "# View first 5 links to see if it worked - \n",
    "# all of the brands are stored in ONE ul tag\n",
    "sidebar_links[0:5]"
   ]
  },
  {
   "cell_type": "markdown",
   "id": "ad8f5fcf",
   "metadata": {},
   "source": [
    "## Parsing ul to get li of brands"
   ]
  },
  {
   "cell_type": "code",
   "execution_count": null,
   "id": "9a4d3650",
   "metadata": {},
   "outputs": [],
   "source": [
    "# Extract brand links by targeting li tags in the second ul tag\n",
    "brands = sidebar_links[1].find_all(\"li\")"
   ]
  },
  {
   "cell_type": "code",
   "execution_count": null,
   "id": "9e8bbadb",
   "metadata": {},
   "outputs": [
    {
     "data": {
      "text/plain": [
       "[<li><a href=\"/Babolatracquets.html\">Babolat</a></li>,\n",
       " <li><a href=\"/Wilsonracquets.html\">Wilson</a></li>,\n",
       " <li><a href=\"/Headracquets.html\">Head</a></li>,\n",
       " <li><a href=\"/YonexRacquets.html\">Yonex</a></li>,\n",
       " <li><a href=\"/PrinceRacquets.html\">Prince</a></li>,\n",
       " <li><a href=\"/Tecnifibreracquets.html\">Tecnifibre</a></li>,\n",
       " <li><a href=\"/DunlopRacquets.html\">Dunlop</a></li>,\n",
       " <li><a href=\"/VolklRacquets.html\">Volkl</a></li>,\n",
       " <li><a href=\"/ProKennexracquets.html\">ProKennex</a></li>,\n",
       " <li><a href=\"/Solinco_Tennis_Racquets/catpage-SOLINCORAC.html\">Solinco</a></li>,\n",
       " <li><a href=\"/LacosteRacquets.html\">Lacoste</a></li>]"
      ]
     },
     "execution_count": 23,
     "metadata": {},
     "output_type": "execute_result"
    }
   ],
   "source": [
    "# List all brands\n",
    "brands"
   ]
  },
  {
   "cell_type": "code",
   "execution_count": null,
   "id": "879c565a",
   "metadata": {},
   "outputs": [],
   "source": [
    "# Extract first brand link\n",
    "link = brands[0].find(\"a\").get(\"href\")"
   ]
  },
  {
   "cell_type": "code",
   "execution_count": null,
   "id": "bdddafa9",
   "metadata": {},
   "outputs": [
    {
     "data": {
      "text/plain": [
       "'/Babolatracquets.html'"
      ]
     },
     "execution_count": 33,
     "metadata": {},
     "output_type": "execute_result"
    }
   ],
   "source": [
    "# Display result of .get\n",
    "link"
   ]
  },
  {
   "cell_type": "markdown",
   "id": "37878cb4",
   "metadata": {},
   "source": [
    "## Extracting and concatenating each brand link into a list of brand links"
   ]
  },
  {
   "cell_type": "code",
   "execution_count": null,
   "id": "9581c2bb",
   "metadata": {},
   "outputs": [],
   "source": [
    "# Create a list of all brand links by iterating over brands list\n",
    "brand_links = []\n",
    "for brand in brands:\n",
    "    link = brand.find(\"a\").get(\"href\")\n",
    "    brand_links.append(link)"
   ]
  },
  {
   "cell_type": "code",
   "execution_count": null,
   "id": "cd2fba8f",
   "metadata": {},
   "outputs": [
    {
     "data": {
      "text/plain": [
       "['/Babolatracquets.html',\n",
       " '/Wilsonracquets.html',\n",
       " '/Headracquets.html',\n",
       " '/YonexRacquets.html',\n",
       " '/PrinceRacquets.html',\n",
       " '/Tecnifibreracquets.html',\n",
       " '/DunlopRacquets.html',\n",
       " '/VolklRacquets.html',\n",
       " '/ProKennexracquets.html',\n",
       " '/Solinco_Tennis_Racquets/catpage-SOLINCORAC.html',\n",
       " '/LacosteRacquets.html']"
      ]
     },
     "execution_count": 35,
     "metadata": {},
     "output_type": "execute_result"
    }
   ],
   "source": [
    "# View result of for loop\n",
    "brand_links"
   ]
  },
  {
   "cell_type": "code",
   "execution_count": null,
   "id": "250a6dba",
   "metadata": {},
   "outputs": [],
   "source": [
    "# Create a new list with full brand page URL \n",
    "# by adding brand_links to the main URL\n",
    "brand_pages = [\"https://www.tennis-warehouse.com\"+link for link in brand_links]"
   ]
  },
  {
   "cell_type": "code",
   "execution_count": null,
   "id": "fc0ef89d",
   "metadata": {},
   "outputs": [
    {
     "data": {
      "text/plain": [
       "['https://www.tennis-warehouse.com/Babolatracquets.html',\n",
       " 'https://www.tennis-warehouse.com/Wilsonracquets.html',\n",
       " 'https://www.tennis-warehouse.com/Headracquets.html',\n",
       " 'https://www.tennis-warehouse.com/YonexRacquets.html',\n",
       " 'https://www.tennis-warehouse.com/PrinceRacquets.html',\n",
       " 'https://www.tennis-warehouse.com/Tecnifibreracquets.html',\n",
       " 'https://www.tennis-warehouse.com/DunlopRacquets.html',\n",
       " 'https://www.tennis-warehouse.com/VolklRacquets.html',\n",
       " 'https://www.tennis-warehouse.com/ProKennexracquets.html',\n",
       " 'https://www.tennis-warehouse.com/Solinco_Tennis_Racquets/catpage-SOLINCORAC.html',\n",
       " 'https://www.tennis-warehouse.com/LacosteRacquets.html']"
      ]
     },
     "execution_count": 37,
     "metadata": {},
     "output_type": "execute_result"
    }
   ],
   "source": [
    "# View brand pages\n",
    "brand_pages"
   ]
  }
 ],
 "metadata": {
  "kernelspec": {
   "display_name": "venv",
   "language": "python",
   "name": "python3"
  },
  "language_info": {
   "codemirror_mode": {
    "name": "ipython",
    "version": 3
   },
   "file_extension": ".py",
   "mimetype": "text/x-python",
   "name": "python",
   "nbconvert_exporter": "python",
   "pygments_lexer": "ipython3",
   "version": "3.10.10"
  }
 },
 "nbformat": 4,
 "nbformat_minor": 5
}
